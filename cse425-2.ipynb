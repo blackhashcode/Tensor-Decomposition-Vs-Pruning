{
 "cells": [
  {
   "cell_type": "code",
   "execution_count": 1,
   "metadata": {
    "_cell_guid": "b1076dfc-b9ad-4769-8c92-a6c4dae69d19",
    "_uuid": "8f2839f25d086af736a60e9eeb907d3b93b6e0e5",
    "execution": {
     "iopub.execute_input": "2025-04-10T09:43:07.186861Z",
     "iopub.status.busy": "2025-04-10T09:43:07.186636Z",
     "iopub.status.idle": "2025-04-10T09:45:08.118304Z",
     "shell.execute_reply": "2025-04-10T09:45:08.117396Z",
     "shell.execute_reply.started": "2025-04-10T09:43:07.186844Z"
    },
    "trusted": true
   },
   "outputs": [
    {
     "name": "stdout",
     "output_type": "stream",
     "text": [
      "Collecting pyRAPL\n",
      "  Downloading pyRAPL-0.2.3.1-py2.py3-none-any.whl.metadata (8.0 kB)\n",
      "Requirement already satisfied: transformers in /usr/local/lib/python3.11/dist-packages (4.51.1)\n",
      "Requirement already satisfied: datasets in /usr/local/lib/python3.11/dist-packages (3.5.0)\n",
      "Requirement already satisfied: accelerate in /usr/local/lib/python3.11/dist-packages (1.3.0)\n",
      "Requirement already satisfied: filelock in /usr/local/lib/python3.11/dist-packages (from transformers) (3.18.0)\n",
      "Requirement already satisfied: huggingface-hub<1.0,>=0.30.0 in /usr/local/lib/python3.11/dist-packages (from transformers) (0.30.2)\n",
      "Requirement already satisfied: numpy>=1.17 in /usr/local/lib/python3.11/dist-packages (from transformers) (1.26.4)\n",
      "Requirement already satisfied: packaging>=20.0 in /usr/local/lib/python3.11/dist-packages (from transformers) (24.2)\n",
      "Requirement already satisfied: pyyaml>=5.1 in /usr/local/lib/python3.11/dist-packages (from transformers) (6.0.2)\n",
      "Requirement already satisfied: regex!=2019.12.17 in /usr/local/lib/python3.11/dist-packages (from transformers) (2024.11.6)\n",
      "Requirement already satisfied: requests in /usr/local/lib/python3.11/dist-packages (from transformers) (2.32.3)\n",
      "Requirement already satisfied: tokenizers<0.22,>=0.21 in /usr/local/lib/python3.11/dist-packages (from transformers) (0.21.0)\n",
      "Requirement already satisfied: safetensors>=0.4.3 in /usr/local/lib/python3.11/dist-packages (from transformers) (0.5.2)\n",
      "Requirement already satisfied: tqdm>=4.27 in /usr/local/lib/python3.11/dist-packages (from transformers) (4.67.1)\n",
      "Requirement already satisfied: pyarrow>=15.0.0 in /usr/local/lib/python3.11/dist-packages (from datasets) (19.0.1)\n",
      "Requirement already satisfied: dill<0.3.9,>=0.3.0 in /usr/local/lib/python3.11/dist-packages (from datasets) (0.3.8)\n",
      "Requirement already satisfied: pandas in /usr/local/lib/python3.11/dist-packages (from datasets) (2.2.3)\n",
      "Requirement already satisfied: xxhash in /usr/local/lib/python3.11/dist-packages (from datasets) (3.5.0)\n",
      "Requirement already satisfied: multiprocess<0.70.17 in /usr/local/lib/python3.11/dist-packages (from datasets) (0.70.16)\n",
      "Collecting fsspec<=2024.12.0,>=2023.1.0 (from fsspec[http]<=2024.12.0,>=2023.1.0->datasets)\n",
      "  Downloading fsspec-2024.12.0-py3-none-any.whl.metadata (11 kB)\n",
      "Requirement already satisfied: aiohttp in /usr/local/lib/python3.11/dist-packages (from datasets) (3.11.16)\n",
      "Requirement already satisfied: psutil in /usr/local/lib/python3.11/dist-packages (from accelerate) (7.0.0)\n",
      "Requirement already satisfied: torch>=2.0.0 in /usr/local/lib/python3.11/dist-packages (from accelerate) (2.5.1+cu124)\n",
      "Requirement already satisfied: aiohappyeyeballs>=2.3.0 in /usr/local/lib/python3.11/dist-packages (from aiohttp->datasets) (2.6.1)\n",
      "Requirement already satisfied: aiosignal>=1.1.2 in /usr/local/lib/python3.11/dist-packages (from aiohttp->datasets) (1.3.2)\n",
      "Requirement already satisfied: attrs>=17.3.0 in /usr/local/lib/python3.11/dist-packages (from aiohttp->datasets) (25.3.0)\n",
      "Requirement already satisfied: frozenlist>=1.1.1 in /usr/local/lib/python3.11/dist-packages (from aiohttp->datasets) (1.5.0)\n",
      "Requirement already satisfied: multidict<7.0,>=4.5 in /usr/local/lib/python3.11/dist-packages (from aiohttp->datasets) (6.2.0)\n",
      "Requirement already satisfied: propcache>=0.2.0 in /usr/local/lib/python3.11/dist-packages (from aiohttp->datasets) (0.3.1)\n",
      "Requirement already satisfied: yarl<2.0,>=1.17.0 in /usr/local/lib/python3.11/dist-packages (from aiohttp->datasets) (1.19.0)\n",
      "Requirement already satisfied: typing-extensions>=3.7.4.3 in /usr/local/lib/python3.11/dist-packages (from huggingface-hub<1.0,>=0.30.0->transformers) (4.13.1)\n",
      "Requirement already satisfied: mkl_fft in /usr/local/lib/python3.11/dist-packages (from numpy>=1.17->transformers) (1.3.8)\n",
      "Requirement already satisfied: mkl_random in /usr/local/lib/python3.11/dist-packages (from numpy>=1.17->transformers) (1.2.4)\n",
      "Requirement already satisfied: mkl_umath in /usr/local/lib/python3.11/dist-packages (from numpy>=1.17->transformers) (0.1.1)\n",
      "Requirement already satisfied: mkl in /usr/local/lib/python3.11/dist-packages (from numpy>=1.17->transformers) (2025.1.0)\n",
      "Requirement already satisfied: tbb4py in /usr/local/lib/python3.11/dist-packages (from numpy>=1.17->transformers) (2022.1.0)\n",
      "Requirement already satisfied: mkl-service in /usr/local/lib/python3.11/dist-packages (from numpy>=1.17->transformers) (2.4.1)\n",
      "Requirement already satisfied: charset-normalizer<4,>=2 in /usr/local/lib/python3.11/dist-packages (from requests->transformers) (3.4.1)\n",
      "Requirement already satisfied: idna<4,>=2.5 in /usr/local/lib/python3.11/dist-packages (from requests->transformers) (3.10)\n",
      "Requirement already satisfied: urllib3<3,>=1.21.1 in /usr/local/lib/python3.11/dist-packages (from requests->transformers) (2.3.0)\n",
      "Requirement already satisfied: certifi>=2017.4.17 in /usr/local/lib/python3.11/dist-packages (from requests->transformers) (2025.1.31)\n",
      "Requirement already satisfied: networkx in /usr/local/lib/python3.11/dist-packages (from torch>=2.0.0->accelerate) (3.4.2)\n",
      "Requirement already satisfied: jinja2 in /usr/local/lib/python3.11/dist-packages (from torch>=2.0.0->accelerate) (3.1.6)\n",
      "Requirement already satisfied: nvidia-cuda-nvrtc-cu12==12.4.127 in /usr/local/lib/python3.11/dist-packages (from torch>=2.0.0->accelerate) (12.4.127)\n",
      "Requirement already satisfied: nvidia-cuda-runtime-cu12==12.4.127 in /usr/local/lib/python3.11/dist-packages (from torch>=2.0.0->accelerate) (12.4.127)\n",
      "Requirement already satisfied: nvidia-cuda-cupti-cu12==12.4.127 in /usr/local/lib/python3.11/dist-packages (from torch>=2.0.0->accelerate) (12.4.127)\n",
      "Collecting nvidia-cudnn-cu12==9.1.0.70 (from torch>=2.0.0->accelerate)\n",
      "  Downloading nvidia_cudnn_cu12-9.1.0.70-py3-none-manylinux2014_x86_64.whl.metadata (1.6 kB)\n",
      "Collecting nvidia-cublas-cu12==12.4.5.8 (from torch>=2.0.0->accelerate)\n",
      "  Downloading nvidia_cublas_cu12-12.4.5.8-py3-none-manylinux2014_x86_64.whl.metadata (1.5 kB)\n",
      "Collecting nvidia-cufft-cu12==11.2.1.3 (from torch>=2.0.0->accelerate)\n",
      "  Downloading nvidia_cufft_cu12-11.2.1.3-py3-none-manylinux2014_x86_64.whl.metadata (1.5 kB)\n",
      "Collecting nvidia-curand-cu12==10.3.5.147 (from torch>=2.0.0->accelerate)\n",
      "  Downloading nvidia_curand_cu12-10.3.5.147-py3-none-manylinux2014_x86_64.whl.metadata (1.5 kB)\n",
      "Collecting nvidia-cusolver-cu12==11.6.1.9 (from torch>=2.0.0->accelerate)\n",
      "  Downloading nvidia_cusolver_cu12-11.6.1.9-py3-none-manylinux2014_x86_64.whl.metadata (1.6 kB)\n",
      "Collecting nvidia-cusparse-cu12==12.3.1.170 (from torch>=2.0.0->accelerate)\n",
      "  Downloading nvidia_cusparse_cu12-12.3.1.170-py3-none-manylinux2014_x86_64.whl.metadata (1.6 kB)\n",
      "Requirement already satisfied: nvidia-nccl-cu12==2.21.5 in /usr/local/lib/python3.11/dist-packages (from torch>=2.0.0->accelerate) (2.21.5)\n",
      "Requirement already satisfied: nvidia-nvtx-cu12==12.4.127 in /usr/local/lib/python3.11/dist-packages (from torch>=2.0.0->accelerate) (12.4.127)\n",
      "Collecting nvidia-nvjitlink-cu12==12.4.127 (from torch>=2.0.0->accelerate)\n",
      "  Downloading nvidia_nvjitlink_cu12-12.4.127-py3-none-manylinux2014_x86_64.whl.metadata (1.5 kB)\n",
      "Requirement already satisfied: triton==3.1.0 in /usr/local/lib/python3.11/dist-packages (from torch>=2.0.0->accelerate) (3.1.0)\n",
      "Requirement already satisfied: sympy==1.13.1 in /usr/local/lib/python3.11/dist-packages (from torch>=2.0.0->accelerate) (1.13.1)\n",
      "Requirement already satisfied: mpmath<1.4,>=1.1.0 in /usr/local/lib/python3.11/dist-packages (from sympy==1.13.1->torch>=2.0.0->accelerate) (1.3.0)\n",
      "Requirement already satisfied: python-dateutil>=2.8.2 in /usr/local/lib/python3.11/dist-packages (from pandas->datasets) (2.9.0.post0)\n",
      "Requirement already satisfied: pytz>=2020.1 in /usr/local/lib/python3.11/dist-packages (from pandas->datasets) (2025.2)\n",
      "Requirement already satisfied: tzdata>=2022.7 in /usr/local/lib/python3.11/dist-packages (from pandas->datasets) (2025.2)\n",
      "Requirement already satisfied: six>=1.5 in /usr/local/lib/python3.11/dist-packages (from python-dateutil>=2.8.2->pandas->datasets) (1.17.0)\n",
      "Requirement already satisfied: MarkupSafe>=2.0 in /usr/local/lib/python3.11/dist-packages (from jinja2->torch>=2.0.0->accelerate) (3.0.2)\n",
      "Requirement already satisfied: intel-openmp<2026,>=2024 in /usr/local/lib/python3.11/dist-packages (from mkl->numpy>=1.17->transformers) (2024.2.0)\n",
      "Requirement already satisfied: tbb==2022.* in /usr/local/lib/python3.11/dist-packages (from mkl->numpy>=1.17->transformers) (2022.1.0)\n",
      "Requirement already satisfied: tcmlib==1.* in /usr/local/lib/python3.11/dist-packages (from tbb==2022.*->mkl->numpy>=1.17->transformers) (1.2.0)\n",
      "Requirement already satisfied: intel-cmplr-lib-rt in /usr/local/lib/python3.11/dist-packages (from mkl_umath->numpy>=1.17->transformers) (2024.2.0)\n",
      "Requirement already satisfied: intel-cmplr-lib-ur==2024.2.0 in /usr/local/lib/python3.11/dist-packages (from intel-openmp<2026,>=2024->mkl->numpy>=1.17->transformers) (2024.2.0)\n",
      "Downloading pyRAPL-0.2.3.1-py2.py3-none-any.whl (27 kB)\n",
      "Downloading fsspec-2024.12.0-py3-none-any.whl (183 kB)\n",
      "\u001b[2K   \u001b[90m━━━━━━━━━━━━━━━━━━━━━━━━━━━━━━━━━━━━━━━━\u001b[0m \u001b[32m183.9/183.9 kB\u001b[0m \u001b[31m8.5 MB/s\u001b[0m eta \u001b[36m0:00:00\u001b[0m\n",
      "\u001b[?25hDownloading nvidia_cublas_cu12-12.4.5.8-py3-none-manylinux2014_x86_64.whl (363.4 MB)\n",
      "\u001b[2K   \u001b[90m━━━━━━━━━━━━━━━━━━━━━━━━━━━━━━━━━━━━━━━━\u001b[0m \u001b[32m363.4/363.4 MB\u001b[0m \u001b[31m4.5 MB/s\u001b[0m eta \u001b[36m0:00:00\u001b[0m0:00:01\u001b[0m00:01\u001b[0m\n",
      "\u001b[?25hDownloading nvidia_cudnn_cu12-9.1.0.70-py3-none-manylinux2014_x86_64.whl (664.8 MB)\n",
      "\u001b[2K   \u001b[90m━━━━━━━━━━━━━━━━━━━━━━━━━━━━━━━━━━━━━━━━\u001b[0m \u001b[32m664.8/664.8 MB\u001b[0m \u001b[31m2.3 MB/s\u001b[0m eta \u001b[36m0:00:00\u001b[0m0:00:01\u001b[0m00:01\u001b[0m\n",
      "\u001b[?25hDownloading nvidia_cufft_cu12-11.2.1.3-py3-none-manylinux2014_x86_64.whl (211.5 MB)\n",
      "\u001b[2K   \u001b[90m━━━━━━━━━━━━━━━━━━━━━━━━━━━━━━━━━━━━━━━━\u001b[0m \u001b[32m211.5/211.5 MB\u001b[0m \u001b[31m2.0 MB/s\u001b[0m eta \u001b[36m0:00:00\u001b[0m0:00:01\u001b[0m00:01\u001b[0m\n",
      "\u001b[?25hDownloading nvidia_curand_cu12-10.3.5.147-py3-none-manylinux2014_x86_64.whl (56.3 MB)\n",
      "\u001b[2K   \u001b[90m━━━━━━━━━━━━━━━━━━━━━━━━━━━━━━━━━━━━━━━━\u001b[0m \u001b[32m56.3/56.3 MB\u001b[0m \u001b[31m30.7 MB/s\u001b[0m eta \u001b[36m0:00:00\u001b[0m:00:01\u001b[0m00:01\u001b[0m\n",
      "\u001b[?25hDownloading nvidia_cusolver_cu12-11.6.1.9-py3-none-manylinux2014_x86_64.whl (127.9 MB)\n",
      "\u001b[2K   \u001b[90m━━━━━━━━━━━━━━━━━━━━━━━━━━━━━━━━━━━━━━━━\u001b[0m \u001b[32m127.9/127.9 MB\u001b[0m \u001b[31m13.3 MB/s\u001b[0m eta \u001b[36m0:00:00\u001b[0m:00:01\u001b[0m00:01\u001b[0m\n",
      "\u001b[?25hDownloading nvidia_cusparse_cu12-12.3.1.170-py3-none-manylinux2014_x86_64.whl (207.5 MB)\n",
      "\u001b[2K   \u001b[90m━━━━━━━━━━━━━━━━━━━━━━━━━━━━━━━━━━━━━━━━\u001b[0m \u001b[32m207.5/207.5 MB\u001b[0m \u001b[31m8.3 MB/s\u001b[0m eta \u001b[36m0:00:00\u001b[0m0:00:01\u001b[0m00:01\u001b[0m\n",
      "\u001b[?25hDownloading nvidia_nvjitlink_cu12-12.4.127-py3-none-manylinux2014_x86_64.whl (21.1 MB)\n",
      "\u001b[2K   \u001b[90m━━━━━━━━━━━━━━━━━━━━━━━━━━━━━━━━━━━━━━━━\u001b[0m \u001b[32m21.1/21.1 MB\u001b[0m \u001b[31m84.2 MB/s\u001b[0m eta \u001b[36m0:00:00\u001b[0m:00:01\u001b[0m00:01\u001b[0m\n",
      "\u001b[?25hInstalling collected packages: pyRAPL, nvidia-nvjitlink-cu12, nvidia-curand-cu12, nvidia-cufft-cu12, nvidia-cublas-cu12, fsspec, nvidia-cusparse-cu12, nvidia-cudnn-cu12, nvidia-cusolver-cu12\n",
      "  Attempting uninstall: nvidia-nvjitlink-cu12\n",
      "    Found existing installation: nvidia-nvjitlink-cu12 12.8.93\n",
      "    Uninstalling nvidia-nvjitlink-cu12-12.8.93:\n",
      "      Successfully uninstalled nvidia-nvjitlink-cu12-12.8.93\n",
      "  Attempting uninstall: nvidia-curand-cu12\n",
      "    Found existing installation: nvidia-curand-cu12 10.3.9.90\n",
      "    Uninstalling nvidia-curand-cu12-10.3.9.90:\n",
      "      Successfully uninstalled nvidia-curand-cu12-10.3.9.90\n",
      "  Attempting uninstall: nvidia-cufft-cu12\n",
      "    Found existing installation: nvidia-cufft-cu12 11.3.3.83\n",
      "    Uninstalling nvidia-cufft-cu12-11.3.3.83:\n",
      "      Successfully uninstalled nvidia-cufft-cu12-11.3.3.83\n",
      "  Attempting uninstall: nvidia-cublas-cu12\n",
      "    Found existing installation: nvidia-cublas-cu12 12.8.4.1\n",
      "    Uninstalling nvidia-cublas-cu12-12.8.4.1:\n",
      "      Successfully uninstalled nvidia-cublas-cu12-12.8.4.1\n",
      "  Attempting uninstall: fsspec\n",
      "    Found existing installation: fsspec 2025.3.2\n",
      "    Uninstalling fsspec-2025.3.2:\n",
      "      Successfully uninstalled fsspec-2025.3.2\n",
      "  Attempting uninstall: nvidia-cusparse-cu12\n",
      "    Found existing installation: nvidia-cusparse-cu12 12.5.8.93\n",
      "    Uninstalling nvidia-cusparse-cu12-12.5.8.93:\n",
      "      Successfully uninstalled nvidia-cusparse-cu12-12.5.8.93\n",
      "  Attempting uninstall: nvidia-cudnn-cu12\n",
      "    Found existing installation: nvidia-cudnn-cu12 9.3.0.75\n",
      "    Uninstalling nvidia-cudnn-cu12-9.3.0.75:\n",
      "      Successfully uninstalled nvidia-cudnn-cu12-9.3.0.75\n",
      "  Attempting uninstall: nvidia-cusolver-cu12\n",
      "    Found existing installation: nvidia-cusolver-cu12 11.7.3.90\n",
      "    Uninstalling nvidia-cusolver-cu12-11.7.3.90:\n",
      "      Successfully uninstalled nvidia-cusolver-cu12-11.7.3.90\n",
      "\u001b[31mERROR: pip's dependency resolver does not currently take into account all the packages that are installed. This behaviour is the source of the following dependency conflicts.\n",
      "gcsfs 2024.10.0 requires fsspec==2024.10.0, but you have fsspec 2024.12.0 which is incompatible.\n",
      "bigframes 1.36.0 requires rich<14,>=12.4.4, but you have rich 14.0.0 which is incompatible.\n",
      "pylibcugraph-cu12 24.12.0 requires pylibraft-cu12==24.12.*, but you have pylibraft-cu12 25.2.0 which is incompatible.\n",
      "pylibcugraph-cu12 24.12.0 requires rmm-cu12==24.12.*, but you have rmm-cu12 25.2.0 which is incompatible.\u001b[0m\u001b[31m\n",
      "\u001b[0mSuccessfully installed fsspec-2024.12.0 nvidia-cublas-cu12-12.4.5.8 nvidia-cudnn-cu12-9.1.0.70 nvidia-cufft-cu12-11.2.1.3 nvidia-curand-cu12-10.3.5.147 nvidia-cusolver-cu12-11.6.1.9 nvidia-cusparse-cu12-12.3.1.170 nvidia-nvjitlink-cu12-12.4.127 pyRAPL-0.2.3.1\n"
     ]
    },
    {
     "data": {
      "application/vnd.jupyter.widget-view+json": {
       "model_id": "0cbc7707bd774b649e864369452d561d",
       "version_major": 2,
       "version_minor": 0
      },
      "text/plain": [
       "tokenizer_config.json:   0%|          | 0.00/1.29k [00:00<?, ?B/s]"
      ]
     },
     "metadata": {},
     "output_type": "display_data"
    },
    {
     "data": {
      "application/vnd.jupyter.widget-view+json": {
       "model_id": "d7fc7d7455fd4fb19766e0f72cd474e7",
       "version_major": 2,
       "version_minor": 0
      },
      "text/plain": [
       "tokenizer.model:   0%|          | 0.00/500k [00:00<?, ?B/s]"
      ]
     },
     "metadata": {},
     "output_type": "display_data"
    },
    {
     "data": {
      "application/vnd.jupyter.widget-view+json": {
       "model_id": "c7394e91bda546eda87a9127718a98e2",
       "version_major": 2,
       "version_minor": 0
      },
      "text/plain": [
       "tokenizer.json:   0%|          | 0.00/1.84M [00:00<?, ?B/s]"
      ]
     },
     "metadata": {},
     "output_type": "display_data"
    },
    {
     "data": {
      "application/vnd.jupyter.widget-view+json": {
       "model_id": "028f4c24c65a49bb9db7376c7b846cfb",
       "version_major": 2,
       "version_minor": 0
      },
      "text/plain": [
       "special_tokens_map.json:   0%|          | 0.00/551 [00:00<?, ?B/s]"
      ]
     },
     "metadata": {},
     "output_type": "display_data"
    },
    {
     "data": {
      "application/vnd.jupyter.widget-view+json": {
       "model_id": "1701eec005294252a8e75c3adf5c2abc",
       "version_major": 2,
       "version_minor": 0
      },
      "text/plain": [
       "config.json:   0%|          | 0.00/608 [00:00<?, ?B/s]"
      ]
     },
     "metadata": {},
     "output_type": "display_data"
    },
    {
     "name": "stderr",
     "output_type": "stream",
     "text": [
      "2025-04-10 09:44:37.124890: E external/local_xla/xla/stream_executor/cuda/cuda_fft.cc:477] Unable to register cuFFT factory: Attempting to register factory for plugin cuFFT when one has already been registered\n",
      "WARNING: All log messages before absl::InitializeLog() is called are written to STDERR\n",
      "E0000 00:00:1744278277.348507      31 cuda_dnn.cc:8310] Unable to register cuDNN factory: Attempting to register factory for plugin cuDNN when one has already been registered\n",
      "E0000 00:00:1744278277.416918      31 cuda_blas.cc:1418] Unable to register cuBLAS factory: Attempting to register factory for plugin cuBLAS when one has already been registered\n"
     ]
    },
    {
     "data": {
      "application/vnd.jupyter.widget-view+json": {
       "model_id": "c32fb6a31221446c86510a5582e98d0c",
       "version_major": 2,
       "version_minor": 0
      },
      "text/plain": [
       "model.safetensors:   0%|          | 0.00/2.20G [00:00<?, ?B/s]"
      ]
     },
     "metadata": {},
     "output_type": "display_data"
    },
    {
     "data": {
      "application/vnd.jupyter.widget-view+json": {
       "model_id": "74daf8e6399e4664a593a2611e556751",
       "version_major": 2,
       "version_minor": 0
      },
      "text/plain": [
       "generation_config.json:   0%|          | 0.00/124 [00:00<?, ?B/s]"
      ]
     },
     "metadata": {},
     "output_type": "display_data"
    },
    {
     "data": {
      "application/vnd.jupyter.widget-view+json": {
       "model_id": "1cb544a24e694ac2967244a1e3bc1776",
       "version_major": 2,
       "version_minor": 0
      },
      "text/plain": [
       "README.md:   0%|          | 0.00/10.5k [00:00<?, ?B/s]"
      ]
     },
     "metadata": {},
     "output_type": "display_data"
    },
    {
     "data": {
      "application/vnd.jupyter.widget-view+json": {
       "model_id": "4d688aab46cd453cb3d72d7c5ed9c99a",
       "version_major": 2,
       "version_minor": 0
      },
      "text/plain": [
       "test-00000-of-00001.parquet:   0%|          | 0.00/685k [00:00<?, ?B/s]"
      ]
     },
     "metadata": {},
     "output_type": "display_data"
    },
    {
     "data": {
      "application/vnd.jupyter.widget-view+json": {
       "model_id": "5665aa48e85c4375892259dea87f6764",
       "version_major": 2,
       "version_minor": 0
      },
      "text/plain": [
       "train-00000-of-00001.parquet:   0%|          | 0.00/6.07M [00:00<?, ?B/s]"
      ]
     },
     "metadata": {},
     "output_type": "display_data"
    },
    {
     "data": {
      "application/vnd.jupyter.widget-view+json": {
       "model_id": "05f261aecb81449cba5b8b2120743f64",
       "version_major": 2,
       "version_minor": 0
      },
      "text/plain": [
       "validation-00000-of-00001.parquet:   0%|          | 0.00/618k [00:00<?, ?B/s]"
      ]
     },
     "metadata": {},
     "output_type": "display_data"
    },
    {
     "data": {
      "application/vnd.jupyter.widget-view+json": {
       "model_id": "9dab891607dd4290afb3c0f1d20ea086",
       "version_major": 2,
       "version_minor": 0
      },
      "text/plain": [
       "Generating test split:   0%|          | 0/4358 [00:00<?, ? examples/s]"
      ]
     },
     "metadata": {},
     "output_type": "display_data"
    },
    {
     "data": {
      "application/vnd.jupyter.widget-view+json": {
       "model_id": "641cb86e317941b7b6f35e01b9a345df",
       "version_major": 2,
       "version_minor": 0
      },
      "text/plain": [
       "Generating train split:   0%|          | 0/36718 [00:00<?, ? examples/s]"
      ]
     },
     "metadata": {},
     "output_type": "display_data"
    },
    {
     "data": {
      "application/vnd.jupyter.widget-view+json": {
       "model_id": "36d3ddad7a2e4f18a01a157d597dd016",
       "version_major": 2,
       "version_minor": 0
      },
      "text/plain": [
       "Generating validation split:   0%|          | 0/3760 [00:00<?, ? examples/s]"
      ]
     },
     "metadata": {},
     "output_type": "display_data"
    },
    {
     "data": {
      "application/vnd.jupyter.widget-view+json": {
       "model_id": "d8ded78195bf4de58eb047b9daf24038",
       "version_major": 2,
       "version_minor": 0
      },
      "text/plain": [
       "Map:   0%|          | 0/4358 [00:00<?, ? examples/s]"
      ]
     },
     "metadata": {},
     "output_type": "display_data"
    },
    {
     "name": "stdout",
     "output_type": "stream",
     "text": [
      "Perplexity after pruning: 5366.48\n",
      "         5449 function calls (4651 primitive calls) in 0.639 seconds\n",
      "\n",
      "   Ordered by: cumulative time\n",
      "\n",
      "   ncalls  tottime  percall  cumtime  percall filename:lineno(function)\n",
      "        1    0.000    0.000    0.639    0.639 174659105.py:75(evaluate_perplexity)\n",
      "        1    0.608    0.608    0.608    0.608 {method 'item' of 'torch._C.TensorBase' objects}\n",
      "    292/1    0.001    0.000    0.031    0.031 module.py:1732(_wrapped_call_impl)\n",
      "    292/1    0.001    0.000    0.031    0.031 module.py:1740(_call_impl)\n",
      "      2/1    0.000    0.000    0.031    0.031 generic.py:949(wrapper)\n",
      "        1    0.000    0.000    0.031    0.031 deprecation.py:120(wrapped_func)\n",
      "        1    0.000    0.000    0.031    0.031 modeling_llama.py:765(forward)\n",
      "        1    0.000    0.000    0.031    0.031 modeling_llama.py:492(forward)\n",
      "       22    0.001    0.000    0.028    0.001 modeling_llama.py:301(forward)\n",
      "       22    0.001    0.000    0.015    0.001 modeling_llama.py:240(forward)\n",
      "      155    0.001    0.000    0.007    0.000 module.py:1752(inner)\n",
      "       45    0.003    0.000    0.006    0.000 modeling_llama.py:78(forward)\n",
      "      155    0.000    0.000    0.005    0.000 linear.py:124(forward)\n",
      "       22    0.001    0.000    0.005    0.000 modeling_llama.py:171(forward)\n",
      "      155    0.004    0.000    0.004    0.000 {built-in method torch._C._nn.linear}\n",
      "       22    0.002    0.000    0.004    0.000 modeling_llama.py:133(apply_rotary_pos_emb)\n",
      "       22    0.000    0.000    0.004    0.000 sdpa_attention.py:18(sdpa_attention_forward)\n",
      "       44    0.001    0.000    0.002    0.000 modeling_llama.py:126(rotate_half)\n",
      "       44    0.001    0.000    0.002    0.000 sdpa_attention.py:6(repeat_kv)\n",
      "       95    0.002    0.000    0.002    0.000 {method 'to' of 'torch._C.TensorBase' objects}\n",
      "       67    0.001    0.000    0.001    0.000 {method 'reshape' of 'torch._C.TensorBase' objects}\n",
      "       22    0.001    0.000    0.001    0.000 {built-in method torch._C._nn.scaled_dot_product_attention}\n",
      "      155    0.000    0.000    0.001    0.000 174659105.py:44(hook)\n",
      "       45    0.001    0.000    0.001    0.000 {built-in method torch.cat}\n",
      "       45    0.001    0.000    0.001    0.000 {method 'mean' of 'torch._C.TensorBase' objects}\n",
      "        1    0.000    0.000    0.001    0.001 modeling_llama.py:601(_update_causal_mask)\n",
      "       45    0.001    0.000    0.001    0.000 {method 'pow' of 'torch._C.TensorBase' objects}\n",
      "      652    0.001    0.000    0.001    0.000 module.py:1918(__getattr__)\n",
      "      155    0.001    0.000    0.001    0.000 {method 'detach' of 'torch._C.TensorBase' objects}\n",
      "       45    0.001    0.000    0.001    0.000 {built-in method torch.rsqrt}\n",
      "        1    0.000    0.000    0.000    0.000 _contextlib.py:113(decorate_context)\n",
      "        1    0.000    0.000    0.000    0.000 modeling_rope_utils.py:81(wrapper)\n",
      "       22    0.000    0.000    0.000    0.000 activation.py:431(forward)\n",
      "        1    0.000    0.000    0.000    0.000 modeling_llama.py:110(forward)\n",
      "   291/77    0.000    0.000    0.000    0.000 configuration_utils.py:207(__getattribute__)\n",
      "        1    0.000    0.000    0.000    0.000 modeling_llama.py:671(_prepare_4d_causal_attention_mask_with_cache_position)\n",
      "       22    0.000    0.000    0.000    0.000 functional.py:2358(silu)\n",
      "      111    0.000    0.000    0.000    0.000 {method 'contiguous' of 'torch._C.TensorBase' objects}\n",
      "       22    0.000    0.000    0.000    0.000 {built-in method torch._C._nn.silu}\n",
      "        1    0.000    0.000    0.000    0.000 sparse.py:189(forward)\n",
      "       89    0.000    0.000    0.000    0.000 {method 'transpose' of 'torch._C.TensorBase' objects}\n",
      "        1    0.000    0.000    0.000    0.000 functional.py:2437(embedding)\n",
      "        1    0.000    0.000    0.000    0.000 {built-in method torch.embedding}\n",
      "      292    0.000    0.000    0.000    0.000 {built-in method torch._C._get_tracing_state}\n",
      "       68    0.000    0.000    0.000    0.000 {method 'view' of 'torch._C.TensorBase' objects}\n",
      "       70    0.000    0.000    0.000    0.000 configuration_utils.py:354(_attn_implementation)\n",
      "      155    0.000    0.000    0.000    0.000 <frozen importlib._bootstrap>:1207(_handle_fromlist)\n",
      "       46    0.000    0.000    0.000    0.000 {method 'expand' of 'torch._C.TensorBase' objects}\n",
      "      272    0.000    0.000    0.000    0.000 {built-in method builtins.hasattr}\n",
      "        1    0.000    0.000    0.000    0.000 loss_utils.py:41(ForCausalLMLoss)\n",
      "        1    0.000    0.000    0.000    0.000 container.py:329(__getitem__)\n",
      "        1    0.000    0.000    0.000    0.000 container.py:307(__init__)\n",
      "      156    0.000    0.000    0.000    0.000 __init__.py:292(is_compiling)\n",
      "        1    0.000    0.000    0.000    0.000 modeling_attn_mask_utils.py:243(_ignore_causal_mask_sdpa)\n",
      "        1    0.000    0.000    0.000    0.000 container.py:358(__iadd__)\n",
      "        1    0.000    0.000    0.000    0.000 container.py:430(extend)\n",
      "       22    0.000    0.000    0.000    0.000 cache_utils.py:404(update)\n",
      "       45    0.000    0.000    0.000    0.000 {method 'unsqueeze' of 'torch._C.TensorBase' objects}\n",
      "       22    0.000    0.000    0.000    0.000 module.py:631(add_module)\n",
      "        1    0.000    0.000    0.000    0.000 modeling_attn_mask_utils.py:194(_unmask_unattended)\n",
      "       23    0.000    0.000    0.000    0.000 _trace.py:1323(is_tracing)\n",
      "        2    0.000    0.000    0.000    0.000 {built-in method torch.arange}\n",
      "        2    0.000    0.000    0.000    0.000 generic.py:374(__post_init__)\n",
      "        1    0.000    0.000    0.000    0.000 functional.py:5015(pad)\n",
      "        1    0.000    0.000    0.000    0.000 loss_utils.py:27(fixed_cross_entropy)\n",
      "      208    0.000    0.000    0.000    0.000 {built-in method builtins.isinstance}\n",
      "        2    0.000    0.000    0.000    0.000 {built-in method torch.all}\n",
      "        5    0.000    0.000    0.000    0.000 {method 'float' of 'torch._C.TensorBase' objects}\n",
      "        1    0.000    0.000    0.000    0.000 functional.py:3389(cross_entropy)\n",
      "        1    0.000    0.000    0.000    0.000 {built-in method torch._C._nn.pad}\n",
      "      310    0.000    0.000    0.000    0.000 {method 'items' of 'collections.OrderedDict' objects}\n",
      "        1    0.000    0.000    0.000    0.000 {method 'clone' of 'torch._C.TensorBase' objects}\n",
      "        1    0.000    0.000    0.000    0.000 {built-in method torch._C._nn.cross_entropy_loss}\n",
      "        1    0.000    0.000    0.000    0.000 {method 'masked_fill' of 'torch._C.TensorBase' objects}\n",
      "        1    0.000    0.000    0.000    0.000 <string>:2(__init__)\n",
      "       23    0.000    0.000    0.000    0.000 {built-in method torch._C._is_tracing}\n",
      "        1    0.000    0.000    0.000    0.000 {built-in method torch.full}\n",
      "      185    0.000    0.000    0.000    0.000 _jit_internal.py:103(is_scripting)\n",
      "        1    0.000    0.000    0.000    0.000 {built-in method torch.triu}\n",
      "        2    0.000    0.000    0.000    0.000 grad_mode.py:80(__enter__)\n",
      "        1    0.000    0.000    0.000    0.000 autocast_mode.py:218(__init__)\n",
      "        1    0.000    0.000    0.000    0.000 module.py:473(__init__)\n",
      "        4    0.000    0.000    0.000    0.000 grad_mode.py:184(__init__)\n",
      "        2    0.000    0.000    0.000    0.000 dataclasses.py:1235(fields)\n",
      "       18    0.000    0.000    0.000    0.000 {built-in method builtins.getattr}\n",
      "       22    0.000    0.000    0.000    0.000 modeling_utils.py:5837(__getitem__)\n",
      "        1    0.000    0.000    0.000    0.000 {built-in method torch.exp}\n",
      "        1    0.000    0.000    0.000    0.000 {method 'mul' of 'torch._C.TensorBase' objects}\n",
      "        1    0.000    0.000    0.000    0.000 {method 'cos' of 'torch._C.TensorBase' objects}\n",
      "        9    0.000    0.000    0.000    0.000 generic.py:449(__setattr__)\n",
      "        1    0.000    0.000    0.000    0.000 autocast_mode.py:345(__enter__)\n",
      "    51/50    0.000    0.000    0.000    0.000 {built-in method builtins.len}\n",
      "        1    0.000    0.000    0.000    0.000 {method 'sin' of 'torch._C.TensorBase' objects}\n",
      "        1    0.000    0.000    0.000    0.000 autocast_mode.py:358(__exit__)\n",
      "        2    0.000    0.000    0.000    0.000 grad_mode.py:75(__init__)\n",
      "        2    0.000    0.000    0.000    0.000 grad_mode.py:84(__exit__)\n",
      "        2    0.000    0.000    0.000    0.000 _contextlib.py:154(__new__)\n",
      "        1    0.000    0.000    0.000    0.000 _contextlib.py:146(clone)\n",
      "        1    0.000    0.000    0.000    0.000 modeling_utils.py:5153(loss_function)\n",
      "       23    0.000    0.000    0.000    0.000 {built-in method torch._C._has_torch_function_unary}\n",
      "        1    0.000    0.000    0.000    0.000 import_utils.py:850(is_torchdynamo_compiling)\n",
      "        4    0.000    0.000    0.000    0.000 {built-in method builtins.all}\n",
      "        4    0.000    0.000    0.000    0.000 {built-in method torch._C._set_grad_enabled}\n",
      "        1    0.000    0.000    0.000    0.000 cache_utils.py:362(__init__)\n",
      "       44    0.000    0.000    0.000    0.000 {method 'append' of 'list' objects}\n",
      "        2    0.000    0.000    0.000    0.000 configuration_utils.py:333(use_return_dict)\n",
      "        5    0.000    0.000    0.000    0.000 generic.py:455(__setitem__)\n",
      "       11    0.000    0.000    0.000    0.000 dataclasses.py:1250(<genexpr>)\n",
      "       22    0.000    0.000    0.000    0.000 {method 'get' of 'dict' objects}\n",
      "        2    0.000    0.000    0.000    0.000 cache_utils.py:451(get_seq_length)\n",
      "        3    0.000    0.000    0.000    0.000 {built-in method torch.get_autocast_dtype}\n",
      "        6    0.000    0.000    0.000    0.000 {built-in method torch.is_grad_enabled}\n",
      "        1    0.000    0.000    0.000    0.000 <frozen abc>:117(__instancecheck__)\n",
      "        2    0.000    0.000    0.000    0.000 {built-in method torch.set_autocast_enabled}\n",
      "        1    0.000    0.000    0.000    0.000 __init__.py:1342(are_deterministic_algorithms_enabled)\n",
      "        1    0.000    0.000    0.000    0.000 {built-in method torch._C._log_api_usage_once}\n",
      "        1    0.000    0.000    0.000    0.000 autocast_mode.py:28(is_autocast_available)\n",
      "        1    0.000    0.000    0.000    0.000 container.py:354(__iter__)\n",
      "        2    0.000    0.000    0.000    0.000 {built-in method torch.set_autocast_dtype}\n",
      "        9    0.000    0.000    0.000    0.000 generic.py:384(<genexpr>)\n",
      "       22    0.000    0.000    0.000    0.000 {method 'values' of 'collections.OrderedDict' objects}\n",
      "        4    0.000    0.000    0.000    0.000 generic.py:388(<genexpr>)\n",
      "        1    0.000    0.000    0.000    0.000 {built-in method torch._C._get_privateuse1_backend_name}\n",
      "        1    0.000    0.000    0.000    0.000 {built-in method _abc._abc_instancecheck}\n",
      "        2    0.000    0.000    0.000    0.000 {built-in method __new__ of type object at 0x93d380}\n",
      "        1    0.000    0.000    0.000    0.000 {built-in method torch.is_autocast_enabled}\n",
      "        9    0.000    0.000    0.000    0.000 {method 'keys' of 'collections.OrderedDict' objects}\n",
      "        2    0.000    0.000    0.000    0.000 {built-in method torch._C._has_torch_function_variadic}\n",
      "        1    0.000    0.000    0.000    0.000 {built-in method torch._C._is_autocast_available}\n",
      "        1    0.000    0.000    0.000    0.000 {built-in method torch.clear_autocast_cache}\n",
      "        1    0.000    0.000    0.000    0.000 cache_utils.py:30(__init__)\n",
      "        1    0.000    0.000    0.000    0.000 _reduction.py:8(get_enum)\n",
      "        2    0.000    0.000    0.000    0.000 {built-in method torch.set_autocast_cache_enabled}\n",
      "        4    0.000    0.000    0.000    0.000 {method 'values' of 'dict' objects}\n",
      "        1    0.000    0.000    0.000    0.000 container.py:350(__len__)\n",
      "        1    0.000    0.000    0.000    0.000 {method 'disable' of '_lsprof.Profiler' objects}\n",
      "        2    0.000    0.000    0.000    0.000 {method 'pop' of 'dict' objects}\n",
      "        1    0.000    0.000    0.000    0.000 {built-in method torch._C._get_deterministic_algorithms}\n",
      "        1    0.000    0.000    0.000    0.000 import_utils.py:340(is_torch_available)\n",
      "        1    0.000    0.000    0.000    0.000 {method 'dim' of 'torch._C.TensorBase' objects}\n",
      "        1    0.000    0.000    0.000    0.000 {built-in method torch.autocast_decrement_nesting}\n",
      "        1    0.000    0.000    0.000    0.000 {built-in method torch.autocast_increment_nesting}\n",
      "        2    0.000    0.000    0.000    0.000 {built-in method torch.is_autocast_cache_enabled}\n",
      "        1    0.000    0.000    0.000    0.000 {built-in method builtins.iter}\n",
      "\n",
      "\n",
      "Estimated CPU Energy: 0.03 Wh\n",
      "-------------------------------------------------------  ------------  ------------  ------------  ------------  ------------  ------------  ------------  ------------  ------------  ------------  \n",
      "                                                   Name    Self CPU %      Self CPU   CPU total %     CPU total  CPU time avg     Self CUDA   Self CUDA %    CUDA total  CUDA time avg    # of Calls  \n",
      "-------------------------------------------------------  ------------  ------------  ------------  ------------  ------------  ------------  ------------  ------------  ------------  ------------  \n",
      "                                        model_inference         0.00%       0.000us         0.00%       0.000us       0.000us     646.424ms       101.29%     646.424ms     646.424ms             1  \n",
      "                                        model_inference         9.19%      60.338ms       100.00%     656.845ms     656.845ms       0.000us         0.00%     638.200ms     638.200ms             1  \n",
      "                                           aten::matmul         0.20%       1.324ms         1.14%       7.457ms      47.798us       0.000us         0.00%     546.690ms       3.504ms           156  \n",
      "                                           aten::linear         0.09%     617.740us         1.43%       9.373ms      60.469us       0.000us         0.00%     546.686ms       3.527ms           155  \n",
      "                                               aten::mm         0.51%       3.361ms         0.74%       4.841ms      31.231us     546.686ms        85.66%     546.686ms       3.527ms           155  \n",
      "                                 hgemm_128x128x8_NT_vec         0.00%       0.000us         0.00%       0.000us       0.000us     256.626ms        40.21%     256.626ms       5.832ms            44  \n",
      "                                  hgemm_32x32x32_NT_vec         0.00%       0.000us         0.00%       0.000us       0.000us     254.828ms        39.93%     254.828ms       2.317ms           110  \n",
      "                     aten::scaled_dot_product_attention         0.07%     482.364us         0.48%       3.177ms     144.425us       0.000us         0.00%      44.905ms       2.041ms            22  \n",
      "          aten::_scaled_dot_product_efficient_attention         0.18%       1.180ms         0.39%       2.541ms     115.495us       0.000us         0.00%      44.905ms       2.041ms            22  \n",
      "                     aten::_efficient_attention_forward         0.06%     413.309us         0.16%       1.035ms      47.040us      44.905ms         7.04%      44.905ms       2.041ms            22  \n",
      "-------------------------------------------------------  ------------  ------------  ------------  ------------  ------------  ------------  ------------  ------------  ------------  ------------  \n",
      "Self CPU time total: 656.860ms\n",
      "Self CUDA time total: 638.200ms\n",
      "\n"
     ]
    },
    {
     "ename": "PyRAPLCantRecordEnergyConsumption",
     "evalue": "",
     "output_type": "error",
     "traceback": [
      "\u001b[0;31m---------------------------------------------------------------------------\u001b[0m",
      "\u001b[0;31mPyRAPLCantRecordEnergyConsumption\u001b[0m         Traceback (most recent call last)",
      "\u001b[0;32m/tmp/ipykernel_31/174659105.py\u001b[0m in \u001b[0;36m<cell line: 0>\u001b[0;34m()\u001b[0m\n\u001b[1;32m    116\u001b[0m \u001b[0;34m\u001b[0m\u001b[0m\n\u001b[1;32m    117\u001b[0m \u001b[0;31m# pyRAPL CPU energy tracking\u001b[0m\u001b[0;34m\u001b[0m\u001b[0;34m\u001b[0m\u001b[0m\n\u001b[0;32m--> 118\u001b[0;31m \u001b[0mpyRAPL\u001b[0m\u001b[0;34m.\u001b[0m\u001b[0msetup\u001b[0m\u001b[0;34m(\u001b[0m\u001b[0;34m)\u001b[0m\u001b[0;34m\u001b[0m\u001b[0;34m\u001b[0m\u001b[0m\n\u001b[0m\u001b[1;32m    119\u001b[0m \u001b[0;34m@\u001b[0m\u001b[0mpyRAPL\u001b[0m\u001b[0;34m.\u001b[0m\u001b[0mmeasureit\u001b[0m\u001b[0;34m\u001b[0m\u001b[0;34m\u001b[0m\u001b[0m\n\u001b[1;32m    120\u001b[0m \u001b[0;32mdef\u001b[0m \u001b[0menergy_profile\u001b[0m\u001b[0;34m(\u001b[0m\u001b[0;34m)\u001b[0m\u001b[0;34m:\u001b[0m\u001b[0;34m\u001b[0m\u001b[0;34m\u001b[0m\u001b[0m\n",
      "\u001b[0;32m/usr/local/lib/python3.11/dist-packages/pyRAPL/pyRAPL.py\u001b[0m in \u001b[0;36msetup\u001b[0;34m(devices, socket_ids)\u001b[0m\n\u001b[1;32m     37\u001b[0m     \u001b[0;34m:\u001b[0m\u001b[0;32mraise\u001b[0m \u001b[0mPyRAPLBadSocketIdException\u001b[0m\u001b[0;34m:\u001b[0m \u001b[0;32mif\u001b[0m \u001b[0mthe\u001b[0m \u001b[0mgiven\u001b[0m \u001b[0msocket\u001b[0m \u001b[0;32min\u001b[0m \u001b[0mparameter\u001b[0m \u001b[0mdoesn\u001b[0m\u001b[0;31m'\u001b[0m\u001b[0mt\u001b[0m \u001b[0mexist\u001b[0m\u001b[0;34m\u001b[0m\u001b[0;34m\u001b[0m\u001b[0m\n\u001b[1;32m     38\u001b[0m     \"\"\"\n\u001b[0;32m---> 39\u001b[0;31m     \u001b[0mpyRAPL\u001b[0m\u001b[0;34m.\u001b[0m\u001b[0m_sensor\u001b[0m \u001b[0;34m=\u001b[0m \u001b[0mSensor\u001b[0m\u001b[0;34m(\u001b[0m\u001b[0mdevices\u001b[0m\u001b[0;34m=\u001b[0m\u001b[0mdevices\u001b[0m\u001b[0;34m,\u001b[0m \u001b[0msocket_ids\u001b[0m\u001b[0;34m=\u001b[0m\u001b[0msocket_ids\u001b[0m\u001b[0;34m)\u001b[0m\u001b[0;34m\u001b[0m\u001b[0;34m\u001b[0m\u001b[0m\n\u001b[0m",
      "\u001b[0;32m/usr/local/lib/python3.11/dist-packages/pyRAPL/sensor.py\u001b[0m in \u001b[0;36m__init__\u001b[0;34m(self, devices, socket_ids)\u001b[0m\n\u001b[1;32m     66\u001b[0m \u001b[0;34m\u001b[0m\u001b[0m\n\u001b[1;32m     67\u001b[0m         \u001b[0;32mif\u001b[0m \u001b[0;32mnot\u001b[0m \u001b[0mself\u001b[0m\u001b[0;34m.\u001b[0m\u001b[0m_available_devices\u001b[0m\u001b[0;34m:\u001b[0m\u001b[0;34m\u001b[0m\u001b[0;34m\u001b[0m\u001b[0m\n\u001b[0;32m---> 68\u001b[0;31m             \u001b[0;32mraise\u001b[0m \u001b[0mPyRAPLCantRecordEnergyConsumption\u001b[0m\u001b[0;34m(\u001b[0m\u001b[0;32mNone\u001b[0m\u001b[0;34m)\u001b[0m\u001b[0;34m\u001b[0m\u001b[0;34m\u001b[0m\u001b[0m\n\u001b[0m\u001b[1;32m     69\u001b[0m \u001b[0;34m\u001b[0m\u001b[0m\n\u001b[1;32m     70\u001b[0m         \u001b[0mself\u001b[0m\u001b[0;34m.\u001b[0m\u001b[0m_socket_ids\u001b[0m \u001b[0;34m=\u001b[0m \u001b[0msocket_ids\u001b[0m \u001b[0;32mif\u001b[0m \u001b[0msocket_ids\u001b[0m \u001b[0;32mis\u001b[0m \u001b[0;32mnot\u001b[0m \u001b[0;32mNone\u001b[0m \u001b[0;32melse\u001b[0m \u001b[0mlist\u001b[0m\u001b[0;34m(\u001b[0m\u001b[0mself\u001b[0m\u001b[0;34m.\u001b[0m\u001b[0m_device_api\u001b[0m\u001b[0;34m.\u001b[0m\u001b[0mvalues\u001b[0m\u001b[0;34m(\u001b[0m\u001b[0;34m)\u001b[0m\u001b[0;34m)\u001b[0m\u001b[0;34m[\u001b[0m\u001b[0;36m0\u001b[0m\u001b[0;34m]\u001b[0m\u001b[0;34m.\u001b[0m\u001b[0m_socket_ids\u001b[0m\u001b[0;34m\u001b[0m\u001b[0;34m\u001b[0m\u001b[0m\n",
      "\u001b[0;31mPyRAPLCantRecordEnergyConsumption\u001b[0m: "
     ]
    }
   ],
   "source": [
    "!pip install pyRAPL transformers datasets accelerate\n",
    "\n",
    "import torch\n",
    "import torch.nn as nn\n",
    "from transformers import AutoModelForCausalLM, AutoTokenizer\n",
    "from datasets import load_dataset\n",
    "from torch.profiler import profile, record_function, ProfilerActivity\n",
    "import cProfile\n",
    "import pyRAPL\n",
    "import subprocess\n",
    "import time\n",
    "\n",
    "# Configuration\n",
    "MODEL_NAME = \"TinyLlama/TinyLlama-1.1B-Chat-v1.0\"\n",
    "BATCH_SIZE = 4\n",
    "MAX_LENGTH = 512\n",
    "PRUNE_RATIO = 0.5\n",
    "DEVICE = \"cuda\" if torch.cuda.is_available() else \"cpu\"\n",
    "\n",
    "# Load tokenizer and model\n",
    "tokenizer = AutoTokenizer.from_pretrained(MODEL_NAME)\n",
    "tokenizer.pad_token = tokenizer.eos_token\n",
    "model = AutoModelForCausalLM.from_pretrained(\n",
    "    MODEL_NAME,\n",
    "    torch_dtype=torch.float16 if DEVICE == \"cuda\" else torch.float32,\n",
    "    device_map=\"auto\" if DEVICE == \"cuda\" else None\n",
    ")\n",
    "model.eval()\n",
    "\n",
    "# Load dataset\n",
    "dataset = load_dataset(\"wikitext\", \"wikitext-2-v1\", split=\"test\")\n",
    "\n",
    "# Tokenize\n",
    "def tokenize(example):\n",
    "    return tokenizer(example['text'], padding=\"max_length\", truncation=True, max_length=MAX_LENGTH)\n",
    "\n",
    "tokenized = dataset.map(tokenize, batched=True)\n",
    "input_ids = torch.tensor(tokenized[\"input_ids\"][:BATCH_SIZE]).to(DEVICE)\n",
    "attention_mask = torch.tensor(tokenized[\"attention_mask\"][:BATCH_SIZE]).to(DEVICE)\n",
    "\n",
    "# Hook to collect activations\n",
    "activation_store = {}\n",
    "def get_activation(name):\n",
    "    def hook(module, input, output):\n",
    "        activation_store[name] = input[0].detach()\n",
    "    return hook\n",
    "\n",
    "for name, module in model.named_modules():\n",
    "    if isinstance(module, nn.Linear):\n",
    "        module.register_forward_hook(get_activation(name))\n",
    "\n",
    "# Initial forward pass\n",
    "with torch.no_grad():\n",
    "    _ = model(input_ids=input_ids, attention_mask=attention_mask)\n",
    "\n",
    "# Wanda-style pruning\n",
    "def wanda_prune(model, prune_ratio):\n",
    "    for name, module in model.named_modules():\n",
    "        if isinstance(module, nn.Linear) and name in activation_store:\n",
    "            W = module.weight.data\n",
    "            A = activation_store[name]\n",
    "            A = A.view(-1, A.shape[-1])\n",
    "            avg_A = torch.abs(A).mean(dim=0)\n",
    "            scores = torch.abs(W) * avg_A.unsqueeze(0)\n",
    "            k = int((1 - prune_ratio) * scores.numel())\n",
    "            topk_scores, _ = torch.topk(scores.view(-1), k, largest=True, sorted=False)\n",
    "            threshold = topk_scores.min()\n",
    "            mask = scores >= threshold\n",
    "            module.weight.data *= mask\n",
    "\n",
    "start_time = time.time()\n",
    "wanda_prune(model, PRUNE_RATIO)\n",
    "\n",
    "# Evaluate perplexity\n",
    "def evaluate_perplexity(model, input_ids, attention_mask):\n",
    "    with torch.no_grad():\n",
    "        outputs = model(input_ids=input_ids, attention_mask=attention_mask, labels=input_ids)\n",
    "        loss = outputs.loss\n",
    "    return torch.exp(loss).item()\n",
    "\n",
    "perplexity = evaluate_perplexity(model, input_ids, attention_mask)\n",
    "print(f\"Perplexity after pruning: {perplexity:.2f}\")\n",
    "\n",
    "# CPU profile\n",
    "def profile_cpu():\n",
    "    profiler = cProfile.Profile()\n",
    "    profiler.enable()\n",
    "    evaluate_perplexity(model, input_ids, attention_mask)\n",
    "    profiler.disable()\n",
    "    profiler.print_stats(sort=\"cumtime\")\n",
    "\n",
    "profile_cpu()\n",
    "\n",
    "# CPU energy estimation\n",
    "def estimate_cpu_energy(runtime_seconds, tdp_watts=65):\n",
    "    return tdp_watts * runtime_seconds / 3600\n",
    "\n",
    "runtime = time.time() - start_time\n",
    "print(f\"Estimated CPU Energy: {estimate_cpu_energy(runtime):.2f} Wh\")\n",
    "\n",
    "# GPU energy via nvidia-smi\n",
    "def get_gpu_energy():\n",
    "    result = subprocess.run(\n",
    "        [\"nvidia-smi\", \"--query-gpu=power.draw\", \"--format=csv,noheader,nounits\"],\n",
    "        capture_output=True, text=True\n",
    "    )\n",
    "    lines = result.stdout.strip().split('\\n')\n",
    "    power_draws = [float(line.strip()) for line in lines if line.strip()]\n",
    "    return sum(power_draws) / len(power_draws)\n",
    "\n",
    "# GPU profiler\n",
    "with profile(activities=[ProfilerActivity.CPU, ProfilerActivity.CUDA], record_shapes=True) as prof:\n",
    "    with record_function(\"model_inference\"):\n",
    "        evaluate_perplexity(model, input_ids, attention_mask)\n",
    "print(prof.key_averages().table(sort_by=\"cuda_time_total\", row_limit=10))\n",
    "\n",
    "# pyRAPL CPU energy tracking\n",
    "pyRAPL.setup()\n",
    "@pyRAPL.measureit\n",
    "def energy_profile():\n",
    "    return evaluate_perplexity(model, input_ids, attention_mask)\n",
    "energy_profile()\n",
    "\n",
    "# Display GPU energy\n",
    "def gpu_energy():\n",
    "    result = subprocess.check_output([\n",
    "        \"nvidia-smi\", \"--query-gpu=power.draw\", \"--format=csv,noheader,nounits\"\n",
    "    ])\n",
    "    print(f\"GPU Power Draw (Watts): {result.decode().strip()}\")\n",
    "\n",
    "gpu_energy()\n"
   ]
  }
 ],
 "metadata": {
  "kaggle": {
   "accelerator": "gpu",
   "dataSources": [],
   "dockerImageVersionId": 31011,
   "isGpuEnabled": true,
   "isInternetEnabled": true,
   "language": "python",
   "sourceType": "notebook"
  },
  "kernelspec": {
   "display_name": "Python 3",
   "language": "python",
   "name": "python3"
  },
  "language_info": {
   "codemirror_mode": {
    "name": "ipython",
    "version": 3
   },
   "file_extension": ".py",
   "mimetype": "text/x-python",
   "name": "python",
   "nbconvert_exporter": "python",
   "pygments_lexer": "ipython3",
   "version": "3.11.11"
  }
 },
 "nbformat": 4,
 "nbformat_minor": 4
}
